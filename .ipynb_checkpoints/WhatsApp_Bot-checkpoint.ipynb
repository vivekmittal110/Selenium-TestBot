{
 "cells": [
  {
   "cell_type": "code",
   "execution_count": 1,
   "id": "85112d9e-e98b-4d89-bb53-93b548886f06",
   "metadata": {},
   "outputs": [],
   "source": [
    "# importing library\n",
    "from selenium import webdriver\n",
    "from selenium.webdriver.chrome.service import Service\n",
    "from selenium.webdriver.common.by import By\n",
    "from selenium.webdriver.common.keys import Keys\n",
    "from selenium.webdriver.common.action_chains import ActionChains\n",
    "from selenium.webdriver.support.ui import WebDriverWait\n",
    "from selenium.webdriver.support import expected_conditions as EC\n",
    "import time"
   ]
  },
  {
   "cell_type": "code",
   "execution_count": 2,
   "id": "ba1471ce-179e-476e-9d55-b18ad4830263",
   "metadata": {},
   "outputs": [],
   "source": [
    "# Global Variables\n",
    "driver_path = \"C:/Users/91931/Downloads/chromedriver-win64/chromedriver-win64/chromedriver.exe\""
   ]
  },
  {
   "cell_type": "code",
   "execution_count": 3,
   "id": "00eab571-c92b-410b-86d3-bd16505e4187",
   "metadata": {},
   "outputs": [],
   "source": [
    "# Initilizing Chrome Webdriver\n",
    "service = Service(driver_path)\n",
    "driver = webdriver.Chrome(service = service)\n",
    "driver.get(\"https://web.whatsapp.com/\")\n",
    "driver.maximize_window()\n",
    "wait = WebDriverWait(driver, 60)"
   ]
  },
  {
   "cell_type": "code",
   "execution_count": 4,
   "id": "861ac902-a0af-4206-9ce8-fa6433fbe25b",
   "metadata": {},
   "outputs": [],
   "source": [
    "def search():\n",
    "    srch_btn = wait.until(EC.visibility_of_element_located((By.XPATH, \"//div[@aria-label='Search']\")))\n",
    "    name_btn = input(\"Enter name of contect you want to send message : \")\n",
    "    srch_btn.send_keys(name_btn)\n",
    "    srch_btn.send_keys(Keys.ENTER)\n",
    "    time.sleep(1)\n",
    "    text_btn = driver.find_element(By.XPATH,\"//div[@aria-placeholder='Type a message']\")\n",
    "    # text_btn = wait.until(EC.visibility_of_element_located((By.XPATH, \"//div[@aria-placeholder='Type a message']\")))\n",
    "    msg = str(input(\"Enter Masssage: \"))\n",
    "    times = int(input(\"Enter count: \"))\n",
    "    for i in range(times):\n",
    "        text_btn.send_keys(msg)\n",
    "        text_btn.send_keys(Keys.ENTER)"
   ]
  },
  {
   "cell_type": "code",
   "execution_count": 17,
   "id": "03ebd19a-e67b-463d-a53c-59a9c1f3567b",
   "metadata": {},
   "outputs": [
    {
     "name": "stdin",
     "output_type": "stream",
     "text": [
      "Enter name of contect you want to send message :  nitin\n",
      "Enter Masssage:  nhi bhai abhi bachi h\n",
      "Enter count:  1\n"
     ]
    }
   ],
   "source": [
    "search()"
   ]
  }
 ],
 "metadata": {
  "kernelspec": {
   "display_name": "Python 3 (ipykernel)",
   "language": "python",
   "name": "python3"
  },
  "language_info": {
   "codemirror_mode": {
    "name": "ipython",
    "version": 3
   },
   "file_extension": ".py",
   "mimetype": "text/x-python",
   "name": "python",
   "nbconvert_exporter": "python",
   "pygments_lexer": "ipython3",
   "version": "3.12.7"
  }
 },
 "nbformat": 4,
 "nbformat_minor": 5
}
